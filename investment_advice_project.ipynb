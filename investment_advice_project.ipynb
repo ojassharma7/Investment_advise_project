{
 "cells": [
  {
   "cell_type": "code",
   "execution_count": 1,
   "metadata": {},
   "outputs": [
    {
     "name": "stdout",
     "output_type": "stream",
     "text": [
      "Defaulting to user installation because normal site-packages is not writeable\n",
      "Requirement already satisfied: transformers in /Users/ojassharma/Library/Python/3.9/lib/python/site-packages (4.44.0)\n",
      "Requirement already satisfied: torch in /Users/ojassharma/Library/Python/3.9/lib/python/site-packages (2.4.0)\n",
      "Requirement already satisfied: faiss-cpu in /Users/ojassharma/Library/Python/3.9/lib/python/site-packages (1.8.0.post1)\n",
      "Requirement already satisfied: elasticsearch in /Users/ojassharma/Library/Python/3.9/lib/python/site-packages (8.14.0)\n",
      "Requirement already satisfied: pandas in /Users/ojassharma/Library/Python/3.9/lib/python/site-packages (2.2.0)\n",
      "Requirement already satisfied: numpy in /Users/ojassharma/Library/Python/3.9/lib/python/site-packages (1.26.4)\n",
      "Requirement already satisfied: flask in /Users/ojassharma/Library/Python/3.9/lib/python/site-packages (3.0.3)\n",
      "Requirement already satisfied: matplotlib in /Users/ojassharma/Library/Python/3.9/lib/python/site-packages (3.8.3)\n",
      "Requirement already satisfied: plotly in /Users/ojassharma/Library/Python/3.9/lib/python/site-packages (5.23.0)\n",
      "Requirement already satisfied: requests in /Users/ojassharma/Library/Python/3.9/lib/python/site-packages (2.32.3)\n",
      "Requirement already satisfied: beautifulsoup4 in /Users/ojassharma/Library/Python/3.9/lib/python/site-packages (4.12.3)\n",
      "Requirement already satisfied: scrapy in /Users/ojassharma/Library/Python/3.9/lib/python/site-packages (2.11.2)\n",
      "Requirement already satisfied: scikit-learn in /Users/ojassharma/Library/Python/3.9/lib/python/site-packages (1.5.1)\n",
      "Requirement already satisfied: packaging>=20.0 in /Users/ojassharma/Library/Python/3.9/lib/python/site-packages (from transformers) (23.2)\n",
      "Requirement already satisfied: pyyaml>=5.1 in /Users/ojassharma/Library/Python/3.9/lib/python/site-packages (from transformers) (6.0.2)\n",
      "Requirement already satisfied: tqdm>=4.27 in /Users/ojassharma/Library/Python/3.9/lib/python/site-packages (from transformers) (4.66.5)\n",
      "Requirement already satisfied: regex!=2019.12.17 in /Users/ojassharma/Library/Python/3.9/lib/python/site-packages (from transformers) (2024.7.24)\n",
      "Requirement already satisfied: safetensors>=0.4.1 in /Users/ojassharma/Library/Python/3.9/lib/python/site-packages (from transformers) (0.4.4)\n",
      "Requirement already satisfied: tokenizers<0.20,>=0.19 in /Users/ojassharma/Library/Python/3.9/lib/python/site-packages (from transformers) (0.19.1)\n",
      "Requirement already satisfied: huggingface-hub<1.0,>=0.23.2 in /Users/ojassharma/Library/Python/3.9/lib/python/site-packages (from transformers) (0.24.5)\n",
      "Requirement already satisfied: filelock in /Users/ojassharma/Library/Python/3.9/lib/python/site-packages (from transformers) (3.15.4)\n",
      "Requirement already satisfied: fsspec in /Users/ojassharma/Library/Python/3.9/lib/python/site-packages (from torch) (2024.6.1)\n",
      "Requirement already satisfied: typing-extensions>=4.8.0 in /Users/ojassharma/Library/Python/3.9/lib/python/site-packages (from torch) (4.9.0)\n",
      "Requirement already satisfied: networkx in /Users/ojassharma/Library/Python/3.9/lib/python/site-packages (from torch) (3.2.1)\n",
      "Requirement already satisfied: sympy in /Users/ojassharma/Library/Python/3.9/lib/python/site-packages (from torch) (1.13.1)\n",
      "Requirement already satisfied: jinja2 in /Users/ojassharma/Library/Python/3.9/lib/python/site-packages (from torch) (3.1.4)\n",
      "Requirement already satisfied: elastic-transport<9,>=8.13 in /Users/ojassharma/Library/Python/3.9/lib/python/site-packages (from elasticsearch) (8.13.1)\n",
      "Requirement already satisfied: tzdata>=2022.7 in /Users/ojassharma/Library/Python/3.9/lib/python/site-packages (from pandas) (2024.1)\n",
      "Requirement already satisfied: python-dateutil>=2.8.2 in /Users/ojassharma/Library/Python/3.9/lib/python/site-packages (from pandas) (2.8.2)\n",
      "Requirement already satisfied: pytz>=2020.1 in /Users/ojassharma/Library/Python/3.9/lib/python/site-packages (from pandas) (2024.1)\n",
      "Requirement already satisfied: importlib-metadata>=3.6.0 in /Users/ojassharma/Library/Python/3.9/lib/python/site-packages (from flask) (7.0.1)\n",
      "Requirement already satisfied: itsdangerous>=2.1.2 in /Users/ojassharma/Library/Python/3.9/lib/python/site-packages (from flask) (2.2.0)\n",
      "Requirement already satisfied: blinker>=1.6.2 in /Users/ojassharma/Library/Python/3.9/lib/python/site-packages (from flask) (1.8.2)\n",
      "Requirement already satisfied: Werkzeug>=3.0.0 in /Users/ojassharma/Library/Python/3.9/lib/python/site-packages (from flask) (3.0.3)\n",
      "Requirement already satisfied: click>=8.1.3 in /Users/ojassharma/Library/Python/3.9/lib/python/site-packages (from flask) (8.1.7)\n",
      "Requirement already satisfied: cycler>=0.10 in /Users/ojassharma/Library/Python/3.9/lib/python/site-packages (from matplotlib) (0.12.1)\n",
      "Requirement already satisfied: fonttools>=4.22.0 in /Users/ojassharma/Library/Python/3.9/lib/python/site-packages (from matplotlib) (4.49.0)\n",
      "Requirement already satisfied: importlib-resources>=3.2.0 in /Users/ojassharma/Library/Python/3.9/lib/python/site-packages (from matplotlib) (6.1.1)\n",
      "Requirement already satisfied: kiwisolver>=1.3.1 in /Users/ojassharma/Library/Python/3.9/lib/python/site-packages (from matplotlib) (1.4.5)\n",
      "Requirement already satisfied: pyparsing>=2.3.1 in /Users/ojassharma/Library/Python/3.9/lib/python/site-packages (from matplotlib) (3.1.1)\n",
      "Requirement already satisfied: pillow>=8 in /Users/ojassharma/Library/Python/3.9/lib/python/site-packages (from matplotlib) (10.2.0)\n",
      "Requirement already satisfied: contourpy>=1.0.1 in /Users/ojassharma/Library/Python/3.9/lib/python/site-packages (from matplotlib) (1.2.0)\n",
      "Requirement already satisfied: tenacity>=6.2.0 in /Users/ojassharma/Library/Python/3.9/lib/python/site-packages (from plotly) (9.0.0)\n",
      "Requirement already satisfied: certifi>=2017.4.17 in /Users/ojassharma/Library/Python/3.9/lib/python/site-packages (from requests) (2024.7.4)\n",
      "Requirement already satisfied: urllib3<3,>=1.21.1 in /Users/ojassharma/Library/Python/3.9/lib/python/site-packages (from requests) (2.2.2)\n",
      "Requirement already satisfied: idna<4,>=2.5 in /Users/ojassharma/Library/Python/3.9/lib/python/site-packages (from requests) (3.7)\n",
      "Requirement already satisfied: charset-normalizer<4,>=2 in /Users/ojassharma/Library/Python/3.9/lib/python/site-packages (from requests) (3.3.2)\n",
      "Requirement already satisfied: soupsieve>1.2 in /Users/ojassharma/Library/Python/3.9/lib/python/site-packages (from beautifulsoup4) (2.5)\n",
      "Requirement already satisfied: cryptography>=36.0.0 in /Users/ojassharma/Library/Python/3.9/lib/python/site-packages (from scrapy) (43.0.0)\n",
      "Requirement already satisfied: parsel>=1.5.0 in /Users/ojassharma/Library/Python/3.9/lib/python/site-packages (from scrapy) (1.9.1)\n",
      "Requirement already satisfied: service-identity>=18.1.0 in /Users/ojassharma/Library/Python/3.9/lib/python/site-packages (from scrapy) (24.1.0)\n",
      "Requirement already satisfied: zope.interface>=5.1.0 in /Users/ojassharma/Library/Python/3.9/lib/python/site-packages (from scrapy) (7.0.1)\n",
      "Requirement already satisfied: defusedxml>=0.7.1 in /Users/ojassharma/Library/Python/3.9/lib/python/site-packages (from scrapy) (0.7.1)\n",
      "Requirement already satisfied: protego>=0.1.15 in /Users/ojassharma/Library/Python/3.9/lib/python/site-packages (from scrapy) (0.3.1)\n",
      "Requirement already satisfied: PyDispatcher>=2.0.5 in /Users/ojassharma/Library/Python/3.9/lib/python/site-packages (from scrapy) (2.0.7)\n",
      "Requirement already satisfied: Twisted>=18.9.0 in /Users/ojassharma/Library/Python/3.9/lib/python/site-packages (from scrapy) (24.3.0)\n",
      "Requirement already satisfied: itemadapter>=0.1.0 in /Users/ojassharma/Library/Python/3.9/lib/python/site-packages (from scrapy) (0.9.0)\n",
      "Requirement already satisfied: cssselect>=0.9.1 in /Users/ojassharma/Library/Python/3.9/lib/python/site-packages (from scrapy) (1.2.0)\n",
      "Requirement already satisfied: tldextract in /Users/ojassharma/Library/Python/3.9/lib/python/site-packages (from scrapy) (5.1.2)\n",
      "Requirement already satisfied: w3lib>=1.17.0 in /Users/ojassharma/Library/Python/3.9/lib/python/site-packages (from scrapy) (2.2.1)\n",
      "Requirement already satisfied: pyOpenSSL>=21.0.0 in /Users/ojassharma/Library/Python/3.9/lib/python/site-packages (from scrapy) (24.2.1)\n",
      "Requirement already satisfied: queuelib>=1.4.2 in /Users/ojassharma/Library/Python/3.9/lib/python/site-packages (from scrapy) (1.7.0)\n",
      "Requirement already satisfied: lxml>=4.4.1 in /Users/ojassharma/Library/Python/3.9/lib/python/site-packages (from scrapy) (5.2.2)\n",
      "Requirement already satisfied: setuptools in /Users/ojassharma/Library/Python/3.9/lib/python/site-packages (from scrapy) (72.1.0)\n",
      "Requirement already satisfied: itemloaders>=1.0.1 in /Users/ojassharma/Library/Python/3.9/lib/python/site-packages (from scrapy) (1.3.1)\n",
      "Requirement already satisfied: joblib>=1.2.0 in /Users/ojassharma/Library/Python/3.9/lib/python/site-packages (from scikit-learn) (1.4.2)\n",
      "Requirement already satisfied: scipy>=1.6.0 in /Users/ojassharma/Library/Python/3.9/lib/python/site-packages (from scikit-learn) (1.13.1)\n",
      "Requirement already satisfied: threadpoolctl>=3.1.0 in /Users/ojassharma/Library/Python/3.9/lib/python/site-packages (from scikit-learn) (3.5.0)\n",
      "Requirement already satisfied: cffi>=1.12 in /Users/ojassharma/Library/Python/3.9/lib/python/site-packages (from cryptography>=36.0.0->scrapy) (1.17.0)\n",
      "Requirement already satisfied: pycparser in /Users/ojassharma/Library/Python/3.9/lib/python/site-packages (from cffi>=1.12->cryptography>=36.0.0->scrapy) (2.22)\n",
      "Requirement already satisfied: zipp>=0.5 in /Users/ojassharma/Library/Python/3.9/lib/python/site-packages (from importlib-metadata>=3.6.0->flask) (3.17.0)\n",
      "Requirement already satisfied: jmespath>=0.9.5 in /Users/ojassharma/Library/Python/3.9/lib/python/site-packages (from itemloaders>=1.0.1->scrapy) (1.0.1)\n",
      "Requirement already satisfied: MarkupSafe>=2.0 in /Users/ojassharma/Library/Python/3.9/lib/python/site-packages (from jinja2->torch) (2.1.5)\n",
      "Requirement already satisfied: six>=1.5 in /Library/Developer/CommandLineTools/Library/Frameworks/Python3.framework/Versions/3.9/lib/python3.9/site-packages (from python-dateutil>=2.8.2->pandas) (1.15.0)\n",
      "Requirement already satisfied: attrs>=19.1.0 in /Users/ojassharma/Library/Python/3.9/lib/python/site-packages (from service-identity>=18.1.0->scrapy) (24.2.0)\n",
      "Requirement already satisfied: pyasn1 in /Users/ojassharma/Library/Python/3.9/lib/python/site-packages (from service-identity>=18.1.0->scrapy) (0.6.0)\n",
      "Requirement already satisfied: pyasn1-modules in /Users/ojassharma/Library/Python/3.9/lib/python/site-packages (from service-identity>=18.1.0->scrapy) (0.4.0)\n",
      "Requirement already satisfied: constantly>=15.1 in /Users/ojassharma/Library/Python/3.9/lib/python/site-packages (from Twisted>=18.9.0->scrapy) (23.10.4)\n",
      "Requirement already satisfied: automat>=0.8.0 in /Users/ojassharma/Library/Python/3.9/lib/python/site-packages (from Twisted>=18.9.0->scrapy) (22.10.0)\n",
      "Requirement already satisfied: hyperlink>=17.1.1 in /Users/ojassharma/Library/Python/3.9/lib/python/site-packages (from Twisted>=18.9.0->scrapy) (21.0.0)\n",
      "Requirement already satisfied: incremental>=22.10.0 in /Users/ojassharma/Library/Python/3.9/lib/python/site-packages (from Twisted>=18.9.0->scrapy) (24.7.2)\n",
      "Requirement already satisfied: tomli in /Users/ojassharma/Library/Python/3.9/lib/python/site-packages (from incremental>=22.10.0->Twisted>=18.9.0->scrapy) (2.0.1)\n",
      "Requirement already satisfied: mpmath<1.4,>=1.1.0 in /Users/ojassharma/Library/Python/3.9/lib/python/site-packages (from sympy->torch) (1.3.0)\n",
      "Requirement already satisfied: requests-file>=1.4 in /Users/ojassharma/Library/Python/3.9/lib/python/site-packages (from tldextract->scrapy) (2.1.0)\n",
      "\u001b[33mWARNING: You are using pip version 21.2.4; however, version 24.2 is available.\n",
      "You should consider upgrading via the '/Library/Developer/CommandLineTools/usr/bin/python3 -m pip install --upgrade pip' command.\u001b[0m\n",
      "Note: you may need to restart the kernel to use updated packages.\n"
     ]
    }
   ],
   "source": [
    "pip install transformers torch faiss-cpu elasticsearch pandas numpy flask matplotlib plotly requests beautifulsoup4 scrapy scikit-learn"
   ]
  },
  {
   "cell_type": "code",
   "execution_count": 2,
   "metadata": {},
   "outputs": [
    {
     "name": "stderr",
     "output_type": "stream",
     "text": [
      "/Users/ojassharma/Library/Python/3.9/lib/python/site-packages/urllib3/__init__.py:35: NotOpenSSLWarning: urllib3 v2 only supports OpenSSL 1.1.1+, currently the 'ssl' module is compiled with 'LibreSSL 2.8.3'. See: https://github.com/urllib3/urllib3/issues/3020\n",
      "  warnings.warn(\n",
      "/Users/ojassharma/Library/Python/3.9/lib/python/site-packages/tqdm/auto.py:21: TqdmWarning: IProgress not found. Please update jupyter and ipywidgets. See https://ipywidgets.readthedocs.io/en/stable/user_install.html\n",
      "  from .autonotebook import tqdm as notebook_tqdm\n",
      "[nltk_data] Downloading package stopwords to\n",
      "[nltk_data]     /Users/ojassharma/nltk_data...\n",
      "[nltk_data]   Package stopwords is already up-to-date!\n"
     ]
    }
   ],
   "source": [
    "# Importing necessary libraries\n",
    "import requests\n",
    "import pandas as pd\n",
    "import numpy as np\n",
    "import matplotlib.pyplot as plt\n",
    "import faiss\n",
    "from bs4 import BeautifulSoup\n",
    "from transformers import T5Tokenizer, T5ForConditionalGeneration\n",
    "import nltk\n",
    "import re\n",
    "\n",
    "nltk.download('stopwords')\n",
    "from nltk.corpus import stopwords\n",
    "\n",
    "# Set up display options for pandas\n",
    "pd.set_option('display.max_columns', None)\n",
    "pd.set_option('display.max_rows', 100)\n"
   ]
  },
  {
   "cell_type": "code",
   "execution_count": null,
   "metadata": {},
   "outputs": [],
   "source": []
  }
 ],
 "metadata": {
  "kernelspec": {
   "display_name": "Python 3",
   "language": "python",
   "name": "python3"
  },
  "language_info": {
   "codemirror_mode": {
    "name": "ipython",
    "version": 3
   },
   "file_extension": ".py",
   "mimetype": "text/x-python",
   "name": "python",
   "nbconvert_exporter": "python",
   "pygments_lexer": "ipython3",
   "version": "3.9.6"
  }
 },
 "nbformat": 4,
 "nbformat_minor": 2
}
